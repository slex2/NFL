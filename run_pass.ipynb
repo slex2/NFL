{
 "cells": [
  {
   "cell_type": "code",
   "execution_count": 1,
   "metadata": {},
   "outputs": [],
   "source": [
    "#using nfl-env conda python 3.10.4 environment \n",
    "import pandas as pd\n",
    "import numpy as np\n",
    "import nflfastpy as nfl \n",
    "from matplotlib import pyplot as plt\n",
    "from matplotlib import style\n",
    "import requests\n",
    "from io import BytesIO\n",
    "\n",
    "pd.options.display.max_rows = 100\n",
    "pd.options.display.max_columns = 1000\n",
    "style.use(\"ggplot\")\n",
    "style.use(\"seaborn-notebook\")\n",
    "style.use(\"fivethirtyeight\")"
   ]
  },
  {
   "cell_type": "code",
   "execution_count": 4,
   "metadata": {},
   "outputs": [],
   "source": [
    "df_pbp = pd.read_csv('C:\\\\NFL_Data\\\\NFL_PBP2.csv', low_memory=False)"
   ]
  },
  {
   "cell_type": "code",
   "execution_count": 39,
   "metadata": {},
   "outputs": [],
   "source": [
    "df_pbp_pass = (df_pbp.\n",
    "            sort_values(by='play_id').\n",
    "            assign(prior_seconds_remaining = df_pbp.groupby('game_id')['game_seconds_remaining'].shift(1)).\n",
    "            query(\"play_type == 'pass'\")\n",
    "        )\n",
    "\n",
    "df_pbp_run = (df_pbp.\n",
    "            sort_values(by='play_id').\n",
    "            assign(prior_seconds_remaining = df_pbp.groupby('game_id')['game_seconds_remaining'].shift(1)).\n",
    "            query(\"play_type == 'run'\")\n",
    "        )"
   ]
  },
  {
   "cell_type": "code",
   "execution_count": null,
   "metadata": {},
   "outputs": [],
   "source": []
  },
  {
   "cell_type": "code",
   "execution_count": null,
   "metadata": {},
   "outputs": [],
   "source": []
  }
 ],
 "metadata": {
  "kernelspec": {
   "display_name": "Python 3.10.4 ('nfl-env')",
   "language": "python",
   "name": "python3"
  },
  "language_info": {
   "codemirror_mode": {
    "name": "ipython",
    "version": 3
   },
   "file_extension": ".py",
   "mimetype": "text/x-python",
   "name": "python",
   "nbconvert_exporter": "python",
   "pygments_lexer": "ipython3",
   "version": "3.10.4"
  },
  "orig_nbformat": 4,
  "vscode": {
   "interpreter": {
    "hash": "30048bc10a96f407b2ce8afb5299cf7380b3a122127f5511ecdac1274af7de58"
   }
  }
 },
 "nbformat": 4,
 "nbformat_minor": 2
}
